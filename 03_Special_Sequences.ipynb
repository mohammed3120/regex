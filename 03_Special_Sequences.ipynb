{
 "cells": [
  {
   "cell_type": "markdown",
   "id": "c2bf4df8",
   "metadata": {},
   "source": [
    "# Special Sequences\n",
    "### A special sequence is a \\ followed by one of the characters in the list below, and has a special meaning:"
   ]
  },
  {
   "cell_type": "code",
   "execution_count": 1,
   "id": "bf7c228c",
   "metadata": {},
   "outputs": [],
   "source": [
    "import re"
   ]
  },
  {
   "cell_type": "markdown",
   "id": "aa7baec1",
   "metadata": {},
   "source": [
    "### \\A\treturns a match if the specified characters are at the beginning of the string"
   ]
  },
  {
   "cell_type": "code",
   "execution_count": 2,
   "id": "99cc1fa4",
   "metadata": {},
   "outputs": [
    {
     "data": {
      "text/plain": [
       "'The rain in Spain'"
      ]
     },
     "execution_count": 2,
     "metadata": {},
     "output_type": "execute_result"
    }
   ],
   "source": [
    "txt = \"The rain in Spain\"\n",
    "txt"
   ]
  },
  {
   "cell_type": "code",
   "execution_count": 3,
   "id": "bf135a25",
   "metadata": {},
   "outputs": [
    {
     "name": "stdout",
     "output_type": "stream",
     "text": [
      "['The']\n",
      "Yes, there is a match!\n"
     ]
    }
   ],
   "source": [
    "#Check if the string starts with \"The\":\n",
    "\n",
    "x1 = re.findall(\"\\AThe\", txt)\n",
    "\n",
    "print(x1)\n",
    "\n",
    "if x1:\n",
    "  print(\"Yes, there is a match!\")\n",
    "else:\n",
    "  print(\"No match\")"
   ]
  },
  {
   "cell_type": "markdown",
   "id": "3f37a70a",
   "metadata": {},
   "source": [
    "### \\b\treturns a match where the specified characters are at the beginning or at the end of a word\n",
    "### (the \"r\" in the beginning is making sure that the string is being treated as a \"raw string\")"
   ]
  },
  {
   "cell_type": "code",
   "execution_count": 4,
   "id": "3f3bf421",
   "metadata": {},
   "outputs": [
    {
     "name": "stdout",
     "output_type": "stream",
     "text": [
      "[]\n",
      "No match\n"
     ]
    }
   ],
   "source": [
    "#Check if \"ain\" is present at the beginning of a WORD:\n",
    "\n",
    "x2 = re.findall(r\"\\bain\", txt)\n",
    "\n",
    "print(x2)\n",
    "\n",
    "if x2:\n",
    "  print(\"Yes, there is at least one match!\")\n",
    "else:\n",
    "  print(\"No match\")"
   ]
  },
  {
   "cell_type": "code",
   "execution_count": 5,
   "id": "17fbd425",
   "metadata": {},
   "outputs": [
    {
     "name": "stdout",
     "output_type": "stream",
     "text": [
      "['ain', 'ain']\n",
      "Yes, there is at least one match!\n"
     ]
    }
   ],
   "source": [
    "#Check if \"ain\" is present at the end of a WORD:\n",
    "\n",
    "x3 = re.findall(r\"ain\\b\", txt)\n",
    "\n",
    "print(x3)\n",
    "\n",
    "if x3:\n",
    "  print(\"Yes, there is at least one match!\")\n",
    "else:\n",
    "  print(\"No match\")"
   ]
  },
  {
   "cell_type": "markdown",
   "id": "1499bcae",
   "metadata": {},
   "source": [
    "### \\B  returns a match where the specified characters are present, but NOT at the beginning of a word"
   ]
  },
  {
   "cell_type": "code",
   "execution_count": 6,
   "id": "7429f769",
   "metadata": {},
   "outputs": [
    {
     "name": "stdout",
     "output_type": "stream",
     "text": [
      "['ain', 'ain']\n",
      "Yes, there is at least one match!\n"
     ]
    }
   ],
   "source": [
    "#Check if \"ain\" is present, but NOT at the beginning of a word:\n",
    "\n",
    "x4 = re.findall(r\"\\Bain\", txt)\n",
    "\n",
    "print(x4)\n",
    "\n",
    "if x4:\n",
    "  print(\"Yes, there is at least one match!\")\n",
    "else:\n",
    "  print(\"No match\")"
   ]
  },
  {
   "cell_type": "code",
   "execution_count": 7,
   "id": "b2e0bbdb",
   "metadata": {},
   "outputs": [
    {
     "name": "stdout",
     "output_type": "stream",
     "text": [
      "[]\n",
      "No match\n"
     ]
    }
   ],
   "source": [
    "#Check if \"ain\" is present, but NOT at the end of a word:\n",
    "\n",
    "x5 = re.findall(r\"ain\\B\", txt)\n",
    "\n",
    "print(x5)\n",
    "\n",
    "if x5:\n",
    "  print(\"Yes, there is at least one match!\")\n",
    "else:\n",
    "  print(\"No match\")"
   ]
  },
  {
   "cell_type": "markdown",
   "id": "d46774aa",
   "metadata": {},
   "source": [
    "### \\d returns a match where the string contains digits (numbers from 0-9)"
   ]
  },
  {
   "cell_type": "code",
   "execution_count": 8,
   "id": "cc74ce45",
   "metadata": {},
   "outputs": [
    {
     "name": "stdout",
     "output_type": "stream",
     "text": [
      "[]\n",
      "No match\n"
     ]
    }
   ],
   "source": [
    "#Check if the string contains any digits (numbers from 0-9):\n",
    "\n",
    "x6 = re.findall(\"\\d\", txt)\n",
    "\n",
    "print(x6)\n",
    "\n",
    "if x6:\n",
    "  print(\"Yes, there is at least one match!\")\n",
    "else:\n",
    "  print(\"No match\")"
   ]
  },
  {
   "cell_type": "markdown",
   "id": "4fb6e62d",
   "metadata": {},
   "source": [
    "### \\D\treturns a match where the string DOES NOT contain digits"
   ]
  },
  {
   "cell_type": "code",
   "execution_count": 9,
   "id": "c5b0b8d8",
   "metadata": {},
   "outputs": [
    {
     "name": "stdout",
     "output_type": "stream",
     "text": [
      "['T', 'h', 'e', ' ', 'r', 'a', 'i', 'n', ' ', 'i', 'n', ' ', 'S', 'p', 'a', 'i', 'n']\n",
      "Yes, there is at least one match!\n"
     ]
    }
   ],
   "source": [
    "#Return a match at every no-digit character:\n",
    "\n",
    "x7 = re.findall(\"\\D\", txt)\n",
    "\n",
    "print(x7)\n",
    "\n",
    "if x7:\n",
    "  print(\"Yes, there is at least one match!\")\n",
    "else:\n",
    "  print(\"No match\")"
   ]
  },
  {
   "cell_type": "markdown",
   "id": "5b8a3936",
   "metadata": {},
   "source": [
    "### \\s\treturns a match where the string contains a white space character"
   ]
  },
  {
   "cell_type": "code",
   "execution_count": 10,
   "id": "53561ec2",
   "metadata": {},
   "outputs": [
    {
     "name": "stdout",
     "output_type": "stream",
     "text": [
      "[' ', ' ', ' ']\n",
      "Yes, there is at least one match!\n"
     ]
    }
   ],
   "source": [
    "#Return a match at every white-space character:\n",
    "\n",
    "x8 = re.findall(\"\\s\", txt)\n",
    "\n",
    "print(x8)\n",
    "\n",
    "if x8:\n",
    "  print(\"Yes, there is at least one match!\")\n",
    "else:\n",
    "  print(\"No match\")"
   ]
  },
  {
   "cell_type": "markdown",
   "id": "41a38623",
   "metadata": {},
   "source": [
    "### \\S\treturns a match where the string DOES NOT contain a white space character"
   ]
  },
  {
   "cell_type": "code",
   "execution_count": 11,
   "id": "814b2899",
   "metadata": {},
   "outputs": [
    {
     "name": "stdout",
     "output_type": "stream",
     "text": [
      "['T', 'h', 'e', 'r', 'a', 'i', 'n', 'i', 'n', 'S', 'p', 'a', 'i', 'n']\n",
      "Yes, there is at least one match!\n"
     ]
    }
   ],
   "source": [
    "#Return a match at every NON white-space character:\n",
    "\n",
    "x9 = re.findall(\"\\S\", txt)\n",
    "\n",
    "print(x9)\n",
    "\n",
    "if x9:\n",
    "  print(\"Yes, there is at least one match!\")\n",
    "else:\n",
    "  print(\"No match\")"
   ]
  },
  {
   "cell_type": "markdown",
   "id": "946784bc",
   "metadata": {},
   "source": [
    "### \\w\treturns a match where the string contains any word characters (characters from a to Z, digits from 0-9, and the underscore _ character)"
   ]
  },
  {
   "cell_type": "code",
   "execution_count": 12,
   "id": "3d0cca2b",
   "metadata": {},
   "outputs": [
    {
     "name": "stdout",
     "output_type": "stream",
     "text": [
      "['T', 'h', 'e', 'r', 'a', 'i', 'n', 'i', 'n', 'S', 'p', 'a', 'i', 'n']\n",
      "Yes, there is at least one match!\n"
     ]
    }
   ],
   "source": [
    "#Return a match at every word character (characters from a to Z, digits from 0-9, and the underscore _ character):\n",
    "\n",
    "x10 = re.findall(\"\\w\", txt)\n",
    "\n",
    "print(x10)\n",
    "\n",
    "if x10:\n",
    "  print(\"Yes, there is at least one match!\")\n",
    "else:\n",
    "  print(\"No match\")"
   ]
  },
  {
   "cell_type": "markdown",
   "id": "6f4a9f5d",
   "metadata": {},
   "source": [
    "### \\W\treturns a match where the string DOES NOT contain any word characters"
   ]
  },
  {
   "cell_type": "code",
   "execution_count": 13,
   "id": "1cb62cbe",
   "metadata": {},
   "outputs": [
    {
     "name": "stdout",
     "output_type": "stream",
     "text": [
      "[' ', ' ', ' ']\n",
      "Yes, there is at least one match!\n"
     ]
    }
   ],
   "source": [
    "#Return a match at every NON word character (characters NOT between a and Z. Like \"!\", \"?\" white-space etc.):\n",
    "\n",
    "x11 = re.findall(\"\\W\", txt)\n",
    "\n",
    "print(x11)\n",
    "\n",
    "if x11:\n",
    "  print(\"Yes, there is at least one match!\")\n",
    "else:\n",
    "  print(\"No match\")"
   ]
  },
  {
   "cell_type": "markdown",
   "id": "621c8866",
   "metadata": {},
   "source": [
    "### \\Z\treturns a match if the specified characters are at the end of the string"
   ]
  },
  {
   "cell_type": "code",
   "execution_count": 14,
   "id": "94e57df9",
   "metadata": {},
   "outputs": [
    {
     "name": "stdout",
     "output_type": "stream",
     "text": [
      "['Spain']\n",
      "Yes, there is a match!\n"
     ]
    }
   ],
   "source": [
    "#Check if the string ends with \"Spain\":\n",
    "\n",
    "x12 = re.findall(\"Spain\\Z\", txt)\n",
    "\n",
    "print(x12)\n",
    "\n",
    "if x12:\n",
    "  print(\"Yes, there is a match!\")\n",
    "else:\n",
    "  print(\"No match\")"
   ]
  },
  {
   "cell_type": "code",
   "execution_count": null,
   "id": "7cc7f5ec",
   "metadata": {},
   "outputs": [],
   "source": []
  }
 ],
 "metadata": {
  "kernelspec": {
   "display_name": "Python 3 (ipykernel)",
   "language": "python",
   "name": "python3"
  },
  "language_info": {
   "codemirror_mode": {
    "name": "ipython",
    "version": 3
   },
   "file_extension": ".py",
   "mimetype": "text/x-python",
   "name": "python",
   "nbconvert_exporter": "python",
   "pygments_lexer": "ipython3",
   "version": "3.9.12"
  }
 },
 "nbformat": 4,
 "nbformat_minor": 5
}
