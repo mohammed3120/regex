{
 "cells": [
  {
   "cell_type": "markdown",
   "id": "bc91818a",
   "metadata": {},
   "source": [
    "# Metacharacters"
   ]
  },
  {
   "cell_type": "markdown",
   "id": "6d69161e",
   "metadata": {},
   "source": [
    "## [] means a set of characters"
   ]
  },
  {
   "cell_type": "code",
   "execution_count": 1,
   "id": "ca8ff1cb",
   "metadata": {},
   "outputs": [],
   "source": [
    "import re"
   ]
  },
  {
   "cell_type": "code",
   "execution_count": 2,
   "id": "9051ee12",
   "metadata": {},
   "outputs": [
    {
     "data": {
      "text/plain": [
       "'The rain in Spain'"
      ]
     },
     "execution_count": 2,
     "metadata": {},
     "output_type": "execute_result"
    }
   ],
   "source": [
    "txt1 = \"The rain in Spain\"\n",
    "txt1"
   ]
  },
  {
   "cell_type": "code",
   "execution_count": 3,
   "id": "5c320b65",
   "metadata": {},
   "outputs": [
    {
     "name": "stdout",
     "output_type": "stream",
     "text": [
      "['h', 'e', 'a', 'i', 'i', 'a', 'i']\n"
     ]
    }
   ],
   "source": [
    "#Find all lower case characters alphabetically between \"a\" and \"m\":\n",
    "\n",
    "x1 = re.findall(\"[a-m]\", txt1)\n",
    "print(x1)"
   ]
  },
  {
   "cell_type": "markdown",
   "id": "f011c412",
   "metadata": {},
   "source": [
    "## \\\t means signals a special sequence (can also be used to escape special characters)"
   ]
  },
  {
   "cell_type": "code",
   "execution_count": 4,
   "id": "024601f1",
   "metadata": {},
   "outputs": [
    {
     "name": "stdout",
     "output_type": "stream",
     "text": [
      "['5', '9']\n"
     ]
    }
   ],
   "source": [
    "txt2 = \"That will be 59 dollars\"\n",
    "\n",
    "#Find all digit characters:\n",
    "\n",
    "x2 = re.findall(\"\\d\", txt2)\n",
    "print(x2)"
   ]
  },
  {
   "cell_type": "markdown",
   "id": "8d9c992b",
   "metadata": {},
   "source": [
    "## .\t means any character (except newline character)"
   ]
  },
  {
   "cell_type": "code",
   "execution_count": 5,
   "id": "fe5e70bd",
   "metadata": {},
   "outputs": [
    {
     "name": "stdout",
     "output_type": "stream",
     "text": [
      "['hello']\n"
     ]
    }
   ],
   "source": [
    "txt3 = \"hello planet\"\n",
    "\n",
    "#Search for a sequence that starts with \"he\", followed by two (any) characters, and an \"o\":\n",
    "\n",
    "x3 = re.findall(\"he..o\", txt3)\n",
    "print(x3)"
   ]
  },
  {
   "cell_type": "markdown",
   "id": "f9a80ba7",
   "metadata": {},
   "source": [
    "## ^\tmeans starts with"
   ]
  },
  {
   "cell_type": "code",
   "execution_count": 6,
   "id": "a99c429e",
   "metadata": {},
   "outputs": [
    {
     "name": "stdout",
     "output_type": "stream",
     "text": [
      "Yes, the string starts with 'hello'\n"
     ]
    }
   ],
   "source": [
    "#Check if the string starts with 'hello':\n",
    "\n",
    "x4 = re.findall(\"^hello\", txt3)\n",
    "if x4:\n",
    "  print(\"Yes, the string starts with 'hello'\")\n",
    "else:\n",
    "  print(\"No match\")"
   ]
  },
  {
   "cell_type": "markdown",
   "id": "247e520e",
   "metadata": {},
   "source": [
    "##  $\tmeans ends with"
   ]
  },
  {
   "cell_type": "code",
   "execution_count": 7,
   "id": "a0fe0927",
   "metadata": {},
   "outputs": [
    {
     "name": "stdout",
     "output_type": "stream",
     "text": [
      "Yes, the string ends with 'planet'\n"
     ]
    }
   ],
   "source": [
    "#Check if the string ends with 'planet':\n",
    "\n",
    "x5 = re.findall(\"planet$\", txt3)\n",
    "if x5:\n",
    "  print(\"Yes, the string ends with 'planet'\")\n",
    "else:\n",
    "  print(\"No match\")"
   ]
  },
  {
   "cell_type": "markdown",
   "id": "32d66d76",
   "metadata": {},
   "source": [
    "## *\tmeans zero or more occurrences"
   ]
  },
  {
   "cell_type": "code",
   "execution_count": 8,
   "id": "1aed6327",
   "metadata": {},
   "outputs": [
    {
     "name": "stdout",
     "output_type": "stream",
     "text": [
      "['hello']\n"
     ]
    }
   ],
   "source": [
    "#Search for a sequence that starts with \"he\", followed by 0 or more  (any) characters, and an \"o\":\n",
    "\n",
    "x6 = re.findall(\"he.*o\", txt3)\n",
    "\n",
    "print(x6)"
   ]
  },
  {
   "cell_type": "markdown",
   "id": "62e38cd7",
   "metadata": {},
   "source": [
    "## +\tmeans one or more occurrences"
   ]
  },
  {
   "cell_type": "code",
   "execution_count": 9,
   "id": "27ffd5d4",
   "metadata": {},
   "outputs": [
    {
     "name": "stdout",
     "output_type": "stream",
     "text": [
      "['hello']\n"
     ]
    }
   ],
   "source": [
    "#Search for a sequence that starts with \"he\", followed by 1 or more  (any) characters, and an \"o\":\n",
    "\n",
    "x7 = re.findall(\"he.+o\", txt3)\n",
    "\n",
    "print(x7)"
   ]
  },
  {
   "cell_type": "markdown",
   "id": "bf490f63",
   "metadata": {},
   "source": [
    "## ?\tmeans zero or one occurrences"
   ]
  },
  {
   "cell_type": "code",
   "execution_count": 10,
   "id": "0f91c72c",
   "metadata": {},
   "outputs": [
    {
     "name": "stdout",
     "output_type": "stream",
     "text": [
      "[]\n"
     ]
    }
   ],
   "source": [
    "#Search for a sequence that starts with \"he\", followed by 0 or 1  (any) character, and an \"o\":\n",
    "\n",
    "x8 = re.findall(\"he.?o\", txt3)\n",
    "\n",
    "print(x8)\n",
    "\n",
    "#This time we got no match, because there were not zero, not one, but two characters between \"he\" and the \"o\" (ll)"
   ]
  },
  {
   "cell_type": "code",
   "execution_count": 11,
   "id": "cded4423",
   "metadata": {},
   "outputs": [
    {
     "name": "stdout",
     "output_type": "stream",
     "text": [
      "['hello']\n"
     ]
    }
   ],
   "source": [
    "x9 = re.findall(\"he?llo\", txt3)\n",
    "print(x9)"
   ]
  },
  {
   "cell_type": "markdown",
   "id": "567f2d32",
   "metadata": {},
   "source": [
    "## {}\tmean exactly the specified number of occurrences"
   ]
  },
  {
   "cell_type": "code",
   "execution_count": 12,
   "id": "85f309cf",
   "metadata": {},
   "outputs": [
    {
     "name": "stdout",
     "output_type": "stream",
     "text": [
      "['hello']\n"
     ]
    }
   ],
   "source": [
    "#Search for a sequence that starts with \"he\", followed excactly 2 (any) characters, and an \"o\":\n",
    "\n",
    "x10 = re.findall(\"he.{2}o\", txt3)\n",
    "\n",
    "print(x10)"
   ]
  },
  {
   "cell_type": "markdown",
   "id": "701aad87",
   "metadata": {},
   "source": [
    "## |\tmeans either or"
   ]
  },
  {
   "cell_type": "code",
   "execution_count": 13,
   "id": "b3063285",
   "metadata": {},
   "outputs": [
    {
     "name": "stdout",
     "output_type": "stream",
     "text": [
      "['falls']\n",
      "Yes, there is at least one match!\n"
     ]
    }
   ],
   "source": [
    "txt4 = \"The rain in Spain falls mainly in the plain!\"\n",
    "\n",
    "#Check if the string contains either \"falls\" or \"stays\":\n",
    "\n",
    "x11 = re.findall(\"falls|stays\", txt4)\n",
    "\n",
    "print(x11)\n",
    "\n",
    "if x11:\n",
    "  print(\"Yes, there is at least one match!\")\n",
    "else:\n",
    "  print(\"No match\")"
   ]
  },
  {
   "cell_type": "markdown",
   "id": "3bf21803",
   "metadata": {},
   "source": [
    "## ()\tCapture and group"
   ]
  },
  {
   "cell_type": "code",
   "execution_count": null,
   "id": "660b5a98",
   "metadata": {},
   "outputs": [],
   "source": []
  }
 ],
 "metadata": {
  "kernelspec": {
   "display_name": "Python 3 (ipykernel)",
   "language": "python",
   "name": "python3"
  },
  "language_info": {
   "codemirror_mode": {
    "name": "ipython",
    "version": 3
   },
   "file_extension": ".py",
   "mimetype": "text/x-python",
   "name": "python",
   "nbconvert_exporter": "python",
   "pygments_lexer": "ipython3",
   "version": "3.9.12"
  }
 },
 "nbformat": 4,
 "nbformat_minor": 5
}
