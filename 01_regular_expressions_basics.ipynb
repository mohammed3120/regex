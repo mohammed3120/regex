{
 "cells": [
  {
   "cell_type": "markdown",
   "id": "02d64048",
   "metadata": {},
   "source": [
    "# RegEx Module"
   ]
  },
  {
   "cell_type": "code",
   "execution_count": 1,
   "id": "c6b9242a",
   "metadata": {},
   "outputs": [],
   "source": [
    "import re"
   ]
  },
  {
   "cell_type": "markdown",
   "id": "b74a3861",
   "metadata": {},
   "source": [
    "# RegEx Functions"
   ]
  },
  {
   "cell_type": "markdown",
   "id": "39985acc",
   "metadata": {},
   "source": [
    "## The findall() Function\n",
    "### returns a list containing all matches."
   ]
  },
  {
   "cell_type": "code",
   "execution_count": 2,
   "id": "f43b5378",
   "metadata": {},
   "outputs": [
    {
     "data": {
      "text/plain": [
       "['ai', 'ai']"
      ]
     },
     "execution_count": 2,
     "metadata": {},
     "output_type": "execute_result"
    }
   ],
   "source": [
    "txt = \"The rain in Spain\"\n",
    "x1 = re.findall(\"ai\", txt)\n",
    "x1"
   ]
  },
  {
   "cell_type": "code",
   "execution_count": 3,
   "id": "1991dc22",
   "metadata": {},
   "outputs": [
    {
     "data": {
      "text/plain": [
       "[]"
      ]
     },
     "execution_count": 3,
     "metadata": {},
     "output_type": "execute_result"
    }
   ],
   "source": [
    "x2 = re.findall(\"Portugal\", txt)\n",
    "x2"
   ]
  },
  {
   "cell_type": "markdown",
   "id": "6bc9dc64",
   "metadata": {},
   "source": [
    "## The search() Function\n",
    "### searches the string for a match, and returns a  Match object if there is a match.\n",
    "### (If there is more than one match, only the first occurrence of the match will be returned)"
   ]
  },
  {
   "cell_type": "code",
   "execution_count": 4,
   "id": "49a54d9a",
   "metadata": {},
   "outputs": [
    {
     "data": {
      "text/plain": [
       "<re.Match object; span=(3, 4), match=' '>"
      ]
     },
     "execution_count": 4,
     "metadata": {},
     "output_type": "execute_result"
    }
   ],
   "source": [
    "x3 = re.search(\"\\s\", txt)\n",
    "x3"
   ]
  },
  {
   "cell_type": "code",
   "execution_count": 5,
   "id": "97cfbd65",
   "metadata": {},
   "outputs": [
    {
     "data": {
      "text/plain": [
       "3"
      ]
     },
     "execution_count": 5,
     "metadata": {},
     "output_type": "execute_result"
    }
   ],
   "source": [
    "x3.start()"
   ]
  },
  {
   "cell_type": "code",
   "execution_count": 6,
   "id": "3b8b4ad6",
   "metadata": {},
   "outputs": [
    {
     "data": {
      "text/plain": [
       "4"
      ]
     },
     "execution_count": 6,
     "metadata": {},
     "output_type": "execute_result"
    }
   ],
   "source": [
    "x3.end()"
   ]
  },
  {
   "cell_type": "code",
   "execution_count": 7,
   "id": "333b8657",
   "metadata": {},
   "outputs": [],
   "source": [
    "x4 = re.search(\"Portugal\", txt)\n",
    "x4"
   ]
  },
  {
   "cell_type": "code",
   "execution_count": 8,
   "id": "9bf4155e",
   "metadata": {},
   "outputs": [
    {
     "name": "stdout",
     "output_type": "stream",
     "text": [
      "None\n"
     ]
    }
   ],
   "source": [
    "print(x4)"
   ]
  },
  {
   "cell_type": "code",
   "execution_count": 9,
   "id": "13f52c2d",
   "metadata": {},
   "outputs": [
    {
     "data": {
      "text/plain": [
       "<re.Match object; span=(5, 6), match='a'>"
      ]
     },
     "execution_count": 9,
     "metadata": {},
     "output_type": "execute_result"
    }
   ],
   "source": [
    "x5 = re.search(\"a\", txt)\n",
    "x5"
   ]
  },
  {
   "cell_type": "code",
   "execution_count": 10,
   "id": "1278f775",
   "metadata": {},
   "outputs": [
    {
     "data": {
      "text/plain": [
       "5"
      ]
     },
     "execution_count": 10,
     "metadata": {},
     "output_type": "execute_result"
    }
   ],
   "source": [
    "x5.start()"
   ]
  },
  {
   "cell_type": "code",
   "execution_count": 11,
   "id": "12e69d40",
   "metadata": {},
   "outputs": [
    {
     "data": {
      "text/plain": [
       "6"
      ]
     },
     "execution_count": 11,
     "metadata": {},
     "output_type": "execute_result"
    }
   ],
   "source": [
    "x5.end()"
   ]
  },
  {
   "cell_type": "markdown",
   "id": "9ee78f72",
   "metadata": {},
   "source": [
    "## Match Object\n",
    "### A Match Object is an object containing information about the search and the result."
   ]
  },
  {
   "cell_type": "markdown",
   "id": "4e358f88",
   "metadata": {},
   "source": [
    "### Note: If there is no match, the value None will be returned, instead of the Match Object."
   ]
  },
  {
   "cell_type": "code",
   "execution_count": 12,
   "id": "642a7d34",
   "metadata": {},
   "outputs": [
    {
     "name": "stdout",
     "output_type": "stream",
     "text": [
      "<re.Match object; span=(5, 7), match='ai'>\n"
     ]
    }
   ],
   "source": [
    "x6 = re.search(\"ai\", txt)\n",
    "print(x6) #this will print an object"
   ]
  },
  {
   "cell_type": "markdown",
   "id": "635df957",
   "metadata": {},
   "source": [
    "### The Match object has properties and methods used to retrieve information about the search, and the result:\n",
    "\n",
    "### .span() returns a tuple containing the start-, and end positions of the match.\n",
    "### .string returns the string passed into the function\n",
    "### .group() returns the part of the string where there was a match"
   ]
  },
  {
   "cell_type": "code",
   "execution_count": 13,
   "id": "04f61936",
   "metadata": {},
   "outputs": [
    {
     "name": "stdout",
     "output_type": "stream",
     "text": [
      "(12, 17)\n"
     ]
    }
   ],
   "source": [
    "# The regular expression looks for any words that starts with an upper case \"S\":\n",
    "x7 = re.search(r\"\\bS\\w+\", txt)\n",
    "print(x7.span())"
   ]
  },
  {
   "cell_type": "code",
   "execution_count": 14,
   "id": "e99a17b4",
   "metadata": {},
   "outputs": [
    {
     "data": {
      "text/plain": [
       "12"
      ]
     },
     "execution_count": 14,
     "metadata": {},
     "output_type": "execute_result"
    }
   ],
   "source": [
    "x7.start()"
   ]
  },
  {
   "cell_type": "code",
   "execution_count": 15,
   "id": "47ddd63b",
   "metadata": {},
   "outputs": [
    {
     "data": {
      "text/plain": [
       "17"
      ]
     },
     "execution_count": 15,
     "metadata": {},
     "output_type": "execute_result"
    }
   ],
   "source": [
    "x7.end()"
   ]
  },
  {
   "cell_type": "code",
   "execution_count": 16,
   "id": "ce328713",
   "metadata": {},
   "outputs": [
    {
     "name": "stdout",
     "output_type": "stream",
     "text": [
      "The rain in Spain\n"
     ]
    }
   ],
   "source": [
    "#Print the string passed into the function:\n",
    "print(x7.string)"
   ]
  },
  {
   "cell_type": "code",
   "execution_count": 17,
   "id": "b35af4df",
   "metadata": {},
   "outputs": [
    {
     "data": {
      "text/plain": [
       "<re.Match object; span=(12, 17), match='Spain'>"
      ]
     },
     "execution_count": 17,
     "metadata": {},
     "output_type": "execute_result"
    }
   ],
   "source": [
    "#Print the part of the string where there was a match.\n",
    "\n",
    "#The regular expression looks for any words that starts with an upper case \"S\":\n",
    "\n",
    "x7 = re.search(r\"\\bS\\w+\", txt)\n",
    "x7"
   ]
  },
  {
   "cell_type": "code",
   "execution_count": 18,
   "id": "eb043fc7",
   "metadata": {},
   "outputs": [
    {
     "name": "stdout",
     "output_type": "stream",
     "text": [
      "Spain\n"
     ]
    }
   ],
   "source": [
    "print(x7.group())"
   ]
  },
  {
   "cell_type": "code",
   "execution_count": 19,
   "id": "5bc4226c",
   "metadata": {},
   "outputs": [
    {
     "data": {
      "text/plain": [
       "'username@hackerrank.com'"
      ]
     },
     "execution_count": 19,
     "metadata": {},
     "output_type": "execute_result"
    }
   ],
   "source": [
    "x7_1 = re.match(r'(\\w+)@(\\w+)\\.(\\w+)','username@hackerrank.com')\n",
    "x7_1.group()       # The entire match "
   ]
  },
  {
   "cell_type": "code",
   "execution_count": 20,
   "id": "3f5b908a",
   "metadata": {},
   "outputs": [
    {
     "data": {
      "text/plain": [
       "'username@hackerrank.com'"
      ]
     },
     "execution_count": 20,
     "metadata": {},
     "output_type": "execute_result"
    }
   ],
   "source": [
    "x7_1.group(0)       # The entire match "
   ]
  },
  {
   "cell_type": "code",
   "execution_count": 21,
   "id": "28cf1083",
   "metadata": {},
   "outputs": [
    {
     "data": {
      "text/plain": [
       "'username'"
      ]
     },
     "execution_count": 21,
     "metadata": {},
     "output_type": "execute_result"
    }
   ],
   "source": [
    "x7_1.group(1)       # The first parenthesized subgroup."
   ]
  },
  {
   "cell_type": "code",
   "execution_count": 22,
   "id": "a1cbff70",
   "metadata": {},
   "outputs": [
    {
     "data": {
      "text/plain": [
       "'hackerrank'"
      ]
     },
     "execution_count": 22,
     "metadata": {},
     "output_type": "execute_result"
    }
   ],
   "source": [
    "x7_1.group(2)       # The second parenthesized subgroup."
   ]
  },
  {
   "cell_type": "code",
   "execution_count": 23,
   "id": "d4511164",
   "metadata": {},
   "outputs": [
    {
     "data": {
      "text/plain": [
       "'com'"
      ]
     },
     "execution_count": 23,
     "metadata": {},
     "output_type": "execute_result"
    }
   ],
   "source": [
    "x7_1.group(3)       # The third parenthesized subgroup."
   ]
  },
  {
   "cell_type": "code",
   "execution_count": 24,
   "id": "9896c303",
   "metadata": {},
   "outputs": [
    {
     "data": {
      "text/plain": [
       "('username', 'hackerrank', 'com')"
      ]
     },
     "execution_count": 24,
     "metadata": {},
     "output_type": "execute_result"
    }
   ],
   "source": [
    "x7_1.group(1,2,3)   # Multiple arguments give us a tuple."
   ]
  },
  {
   "cell_type": "markdown",
   "id": "9545a14a",
   "metadata": {},
   "source": [
    "## Example"
   ]
  },
  {
   "cell_type": "code",
   "execution_count": 25,
   "id": "3a162141",
   "metadata": {},
   "outputs": [
    {
     "name": "stdout",
     "output_type": "stream",
     "text": [
      "m\n"
     ]
    }
   ],
   "source": [
    "s = \"MohammedHacherrankTook\"\n",
    "ex = re.search(r'([a-zA-Z0-9])\\1', s)\n",
    "print(ex.group(0)[0])"
   ]
  },
  {
   "cell_type": "markdown",
   "id": "1d15533b",
   "metadata": {},
   "source": [
    "### A groups() expression returns a tuple containing all the subgroups of the match."
   ]
  },
  {
   "cell_type": "code",
   "execution_count": 26,
   "id": "b273f594",
   "metadata": {},
   "outputs": [
    {
     "data": {
      "text/plain": [
       "('username', 'hackerrank', 'com')"
      ]
     },
     "execution_count": 26,
     "metadata": {},
     "output_type": "execute_result"
    }
   ],
   "source": [
    "x7_1.groups()"
   ]
  },
  {
   "cell_type": "markdown",
   "id": "54cfe630",
   "metadata": {},
   "source": [
    "### groupdict()\n",
    "### Return a dictionary containing all the named subgroups of the match, keyed by the subgroup name"
   ]
  },
  {
   "cell_type": "code",
   "execution_count": 27,
   "id": "4930e679",
   "metadata": {},
   "outputs": [
    {
     "data": {
      "text/plain": [
       "{'first_name': 'Malcolm', 'last_name': 'Reynolds'}"
      ]
     },
     "execution_count": 27,
     "metadata": {},
     "output_type": "execute_result"
    }
   ],
   "source": [
    "x7_2 = re.match(r\"(?P<first_name>\\w+) (?P<last_name>\\w+)\", \"Malcolm Reynolds\")\n",
    "x7_2.groupdict()"
   ]
  },
  {
   "cell_type": "markdown",
   "id": "ffe9b8d7",
   "metadata": {},
   "source": [
    "## The split() Function\n",
    "### returns a list where the string has been split at each match:"
   ]
  },
  {
   "cell_type": "code",
   "execution_count": 28,
   "id": "a96a33f4",
   "metadata": {},
   "outputs": [
    {
     "name": "stdout",
     "output_type": "stream",
     "text": [
      "['The', 'rain', 'in', 'Spain']\n"
     ]
    }
   ],
   "source": [
    "x8 = re.split(\"\\s\", txt)\n",
    "print(x8)"
   ]
  },
  {
   "cell_type": "markdown",
   "id": "06ad1e84",
   "metadata": {},
   "source": [
    "### Split the string only at the first occurrence:"
   ]
  },
  {
   "cell_type": "code",
   "execution_count": 29,
   "id": "3ac13958",
   "metadata": {},
   "outputs": [
    {
     "name": "stdout",
     "output_type": "stream",
     "text": [
      "['The', 'rain in Spain']\n"
     ]
    }
   ],
   "source": [
    "x9 = re.split(\"\\s\", txt, 1)\n",
    "print(x9)"
   ]
  },
  {
   "cell_type": "markdown",
   "id": "694ab287",
   "metadata": {},
   "source": [
    "## The sub() Function\n",
    "### replaces the matches with the text of your choice:"
   ]
  },
  {
   "cell_type": "code",
   "execution_count": 30,
   "id": "28830ca7",
   "metadata": {},
   "outputs": [
    {
     "name": "stdout",
     "output_type": "stream",
     "text": [
      "The9rain9in9Spain\n"
     ]
    }
   ],
   "source": [
    "x10 = re.sub(\"\\s\", \"9\", txt)\n",
    "print(x10)"
   ]
  },
  {
   "cell_type": "markdown",
   "id": "5d7f2170",
   "metadata": {},
   "source": [
    "### You can control the number of replacements by specifying the count parameter:"
   ]
  },
  {
   "cell_type": "code",
   "execution_count": 31,
   "id": "b0b9d302",
   "metadata": {},
   "outputs": [
    {
     "name": "stdout",
     "output_type": "stream",
     "text": [
      "The9rain9in Spain\n"
     ]
    }
   ],
   "source": [
    "x11 = re.sub(\"\\s\", \"9\", txt, 2)\n",
    "print(x11)"
   ]
  },
  {
   "cell_type": "markdown",
   "id": "14ff2547",
   "metadata": {},
   "source": [
    "## The Match() Function\n",
    "### checks for a match only at the beginning of the string:"
   ]
  },
  {
   "cell_type": "code",
   "execution_count": 32,
   "id": "a186a0e3",
   "metadata": {},
   "outputs": [],
   "source": [
    "x12 = re.match(\"c\", \"abcdef\")\n",
    "x12"
   ]
  },
  {
   "cell_type": "code",
   "execution_count": 33,
   "id": "87b082e3",
   "metadata": {},
   "outputs": [
    {
     "name": "stdout",
     "output_type": "stream",
     "text": [
      "None\n"
     ]
    }
   ],
   "source": [
    "print(x12)"
   ]
  },
  {
   "cell_type": "code",
   "execution_count": 34,
   "id": "3a26e6d3",
   "metadata": {},
   "outputs": [
    {
     "data": {
      "text/plain": [
       "<re.Match object; span=(0, 1), match='c'>"
      ]
     },
     "execution_count": 34,
     "metadata": {},
     "output_type": "execute_result"
    }
   ],
   "source": [
    "x13 = re.match(\"c\", \"cdef\")\n",
    "x13"
   ]
  }
 ],
 "metadata": {
  "kernelspec": {
   "display_name": "Python 3 (ipykernel)",
   "language": "python",
   "name": "python3"
  },
  "language_info": {
   "codemirror_mode": {
    "name": "ipython",
    "version": 3
   },
   "file_extension": ".py",
   "mimetype": "text/x-python",
   "name": "python",
   "nbconvert_exporter": "python",
   "pygments_lexer": "ipython3",
   "version": "3.9.12"
  }
 },
 "nbformat": 4,
 "nbformat_minor": 5
}
